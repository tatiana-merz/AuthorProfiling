{
 "cells": [
  {
   "cell_type": "code",
   "execution_count": 1,
   "id": "assumed-ontario",
   "metadata": {},
   "outputs": [],
   "source": [
    "import nltk\n",
    "import pprint"
   ]
  },
  {
   "cell_type": "code",
   "execution_count": 2,
   "id": "impossible-fluid",
   "metadata": {},
   "outputs": [],
   "source": [
    "from collections import defaultdict\n",
    "from nltk.probability import FreqDist, DictionaryProbDist, ELEProbDist, sum_logs"
   ]
  },
  {
   "cell_type": "code",
   "execution_count": 3,
   "id": "danish-bishop",
   "metadata": {},
   "outputs": [],
   "source": [
    "pos_sents = [('I love this color', 'positive'),\n",
    "              ('This book is just wonderful', 'positive'),\n",
    "              ('These collections are amazing', 'positive'),\n",
    "              ('I feel great today', 'positive'),\n",
    "              ('I am so excited about our trip', 'positive'),\n",
    "              ('She is my best friend in the world', 'positive'),\n",
    "              ('You look nice in this dress', 'positive'),\n",
    "              ('You look nice in this dress', 'positive'),\n",
    "              ('I really like her', 'positive')]"
   ]
  },
  {
   "cell_type": "code",
   "execution_count": 4,
   "id": "sharing-purchase",
   "metadata": {},
   "outputs": [],
   "source": [
    "neg_sents = [('I do not like this car', 'negative'),\n",
    "              ('This dress is horrible', 'negative'),\n",
    "              ('He does not want to listen to me', 'negative'),\n",
    "              ('I feel so tired', 'negative'),\n",
    "              ('I am not looking forward to meeting him', 'negative'),\n",
    "              ('Yesterday was such a bad day', 'negative'),\n",
    "              ('Jenny hates oranges', 'negative'),\n",
    "              ('I am getting sick', 'negative'),\n",
    "              ('He is my worst enemy', 'negative')]"
   ]
  },
  {
   "cell_type": "code",
   "execution_count": 5,
   "id": "bibliographic-locator",
   "metadata": {},
   "outputs": [],
   "source": [
    "test_sents = [(['feel', 'happy', 'today'], 'positive'),\n",
    "               (['wonderful', 'song'], 'positive'),\n",
    "               (['simon','best', 'friend'], 'positive'),\n",
    "               (['not', 'like', 'that', 'man'], 'negative'),\n",
    "               (['house', 'not', 'beautiful'], 'negative'),\n",
    "               (['such', 'bad', 'day'], 'negative'),\n",
    "               (['your', 'voice', 'annoying'], 'negative')]"
   ]
  },
  {
   "cell_type": "code",
   "execution_count": 6,
   "id": "modern-satellite",
   "metadata": {},
   "outputs": [],
   "source": [
    "sents = []\n",
    "for (words, sentiment) in pos_sents + neg_sents:\n",
    "    words_filtered = [e.lower() for e in words.split() if len(e) >= 3]\n",
    "    sents.append((words_filtered, sentiment))"
   ]
  },
  {
   "cell_type": "code",
   "execution_count": 7,
   "id": "surgical-syndrome",
   "metadata": {},
   "outputs": [
    {
     "data": {
      "text/plain": [
       "[(['love', 'this', 'color'], 'positive'),\n",
       " (['this', 'book', 'just', 'wonderful'], 'positive'),\n",
       " (['these', 'collections', 'are', 'amazing'], 'positive'),\n",
       " (['feel', 'great', 'today'], 'positive'),\n",
       " (['excited', 'about', 'our', 'trip'], 'positive'),\n",
       " (['she', 'best', 'friend', 'the', 'world'], 'positive'),\n",
       " (['you', 'look', 'nice', 'this', 'dress'], 'positive'),\n",
       " (['you', 'look', 'nice', 'this', 'dress'], 'positive'),\n",
       " (['really', 'like', 'her'], 'positive'),\n",
       " (['not', 'like', 'this', 'car'], 'negative'),\n",
       " (['this', 'dress', 'horrible'], 'negative'),\n",
       " (['does', 'not', 'want', 'listen'], 'negative'),\n",
       " (['feel', 'tired'], 'negative'),\n",
       " (['not', 'looking', 'forward', 'meeting', 'him'], 'negative'),\n",
       " (['yesterday', 'was', 'such', 'bad', 'day'], 'negative'),\n",
       " (['jenny', 'hates', 'oranges'], 'negative'),\n",
       " (['getting', 'sick'], 'negative'),\n",
       " (['worst', 'enemy'], 'negative')]"
      ]
     },
     "execution_count": 7,
     "metadata": {},
     "output_type": "execute_result"
    }
   ],
   "source": [
    "sents"
   ]
  },
  {
   "cell_type": "code",
   "execution_count": 8,
   "id": "endangered-function",
   "metadata": {},
   "outputs": [],
   "source": [
    "def get_words_in_sents(sents):\n",
    "    all_words = []\n",
    "    for (words, sentiment) in sents:\n",
    "      all_words.extend(words)\n",
    "    return all_words\n",
    "\n",
    "def get_word_features(wordlist):\n",
    "    wordlist = nltk.FreqDist(wordlist)\n",
    "    word_features = wordlist.keys()\n",
    "    return word_features"
   ]
  },
  {
   "cell_type": "code",
   "execution_count": 9,
   "id": "resident-russian",
   "metadata": {},
   "outputs": [
    {
     "data": {
      "text/plain": [
       "dict_keys(['love', 'this', 'color', 'book', 'just', 'wonderful', 'these', 'collections', 'are', 'amazing', 'feel', 'great', 'today', 'excited', 'about', 'our', 'trip', 'she', 'best', 'friend', 'the', 'world', 'you', 'look', 'nice', 'dress', 'really', 'like', 'her', 'not', 'car', 'horrible', 'does', 'want', 'listen', 'tired', 'looking', 'forward', 'meeting', 'him', 'yesterday', 'was', 'such', 'bad', 'day', 'jenny', 'hates', 'oranges', 'getting', 'sick', 'worst', 'enemy'])"
      ]
     },
     "execution_count": 9,
     "metadata": {},
     "output_type": "execute_result"
    }
   ],
   "source": [
    "word_features = get_word_features(get_words_in_sents(sents))\n",
    "word_features"
   ]
  },
  {
   "cell_type": "code",
   "execution_count": 10,
   "id": "talented-korean",
   "metadata": {},
   "outputs": [],
   "source": [
    "def extract_features(document):\n",
    "    document_words = set(document)\n",
    "    features = {}\n",
    "    for word in word_features:\n",
    "        features['contains(%s)' % word] = (word in document_words)\n",
    "    return features"
   ]
  },
  {
   "cell_type": "code",
   "execution_count": 11,
   "id": "raised-merit",
   "metadata": {},
   "outputs": [],
   "source": [
    "training_set = nltk.classify.apply_features(extract_features, sents)\n",
    "#training_set"
   ]
  },
  {
   "cell_type": "code",
   "execution_count": null,
   "id": "miniature-roads",
   "metadata": {},
   "outputs": [],
   "source": []
  },
  {
   "cell_type": "code",
   "execution_count": 12,
   "id": "governmental-bulgarian",
   "metadata": {},
   "outputs": [],
   "source": [
    "classifier = nltk.NaiveBayesClassifier.train(training_set)"
   ]
  },
  {
   "cell_type": "code",
   "execution_count": 13,
   "id": "classified-positive",
   "metadata": {},
   "outputs": [],
   "source": [
    "def train(labeled_featuresets, estimator=ELEProbDist):\n",
    "    label_probdist = estimator(label_freqdist)\n",
    "    feature_probdist = {}\n",
    "    return NaiveBayesClassifier(label_probdist, feature_probdist)"
   ]
  },
  {
   "cell_type": "code",
   "execution_count": 14,
   "id": "involved-upgrade",
   "metadata": {},
   "outputs": [
    {
     "name": "stdout",
     "output_type": "stream",
     "text": [
      "Most Informative Features\n",
      "          contains(this) = True           positi : negati =      1.8 : 1.0\n",
      "         contains(dress) = True           positi : negati =      1.7 : 1.0\n",
      "           contains(not) = False          positi : negati =      1.5 : 1.0\n",
      "          contains(this) = False          negati : positi =      1.4 : 1.0\n",
      "          contains(look) = False          negati : positi =      1.3 : 1.0\n",
      "          contains(nice) = False          negati : positi =      1.3 : 1.0\n",
      "           contains(you) = False          negati : positi =      1.3 : 1.0\n",
      "         contains(dress) = False          negati : positi =      1.1 : 1.0\n",
      "         contains(about) = False          negati : positi =      1.1 : 1.0\n",
      "       contains(amazing) = False          negati : positi =      1.1 : 1.0\n"
     ]
    }
   ],
   "source": [
    "classifier.show_most_informative_features(10)"
   ]
  },
  {
   "cell_type": "code",
   "execution_count": 15,
   "id": "passive-natural",
   "metadata": {},
   "outputs": [
    {
     "data": {
      "text/plain": [
       "'positive'"
      ]
     },
     "execution_count": 15,
     "metadata": {},
     "output_type": "execute_result"
    }
   ],
   "source": [
    "sent = 'He is my friend'\n",
    "classifier.classify(extract_features(sent.split()))"
   ]
  }
 ],
 "metadata": {
  "kernelspec": {
   "display_name": "Python 3",
   "language": "python",
   "name": "python3"
  },
  "language_info": {
   "codemirror_mode": {
    "name": "ipython",
    "version": 3
   },
   "file_extension": ".py",
   "mimetype": "text/x-python",
   "name": "python",
   "nbconvert_exporter": "python",
   "pygments_lexer": "ipython3",
   "version": "3.9.1"
  }
 },
 "nbformat": 4,
 "nbformat_minor": 5
}
